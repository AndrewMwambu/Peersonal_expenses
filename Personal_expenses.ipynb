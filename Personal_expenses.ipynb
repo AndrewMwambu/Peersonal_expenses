{
 "cells": [
  {
   "cell_type": "code",
   "execution_count": 2,
   "id": "47e23b1c-128d-44eb-86d2-82f7c7aadd05",
   "metadata": {},
   "outputs": [],
   "source": [
    "name = \"Andrew\" # str\n",
    "current_month = 'August 2025' # str\n",
    "currency = 'Ugx' # str\n",
    "budget = 2000000.00 # float\n",
    "num_days_in_month = 31 # int\n",
    "budget_set = True # Boolean"
   ]
  },
  {
   "cell_type": "code",
   "execution_count": 3,
   "id": "84adffe0-9a4c-440c-b030-4a0665e7d279",
   "metadata": {},
   "outputs": [
    {
     "name": "stdout",
     "output_type": "stream",
     "text": [
      "Hello Andrew\n"
     ]
    }
   ],
   "source": [
    "print('Hello', name)"
   ]
  },
  {
   "cell_type": "code",
   "execution_count": 4,
   "id": "81d0b44a-6fa9-4f6a-9c58-43866cb799ed",
   "metadata": {},
   "outputs": [
    {
     "name": "stdout",
     "output_type": "stream",
     "text": [
      "Budget for August 2025 : 2000000.0\n"
     ]
    }
   ],
   "source": [
    "print('Budget for', current_month, ':', budget)"
   ]
  },
  {
   "cell_type": "code",
   "execution_count": null,
   "id": "2a0a7902-68b8-4a8e-a3ce-a285bacddddd",
   "metadata": {},
   "outputs": [],
   "source": []
  },
  {
   "cell_type": "markdown",
   "id": "8ff2ed3b-a931-44bb-9da0-904e9357b344",
   "metadata": {},
   "source": [
    "DETERMINING A SINGLE EXPENSE"
   ]
  },
  {
   "cell_type": "code",
   "execution_count": 5,
   "id": "8ce57b07-1194-436f-9428-5a040ddbf43d",
   "metadata": {},
   "outputs": [],
   "source": [
    "item = 'Rent'\n",
    "amount = 300000.00\n",
    "category = 'Housing'\n",
    "is_necessary = True"
   ]
  },
  {
   "cell_type": "code",
   "execution_count": null,
   "id": "8e585588-1c5d-4f05-9399-92573c023e9d",
   "metadata": {},
   "outputs": [],
   "source": []
  },
  {
   "cell_type": "code",
   "execution_count": 6,
   "id": "8f7322d5-b69e-45b3-a451-41b72c866cc3",
   "metadata": {},
   "outputs": [
    {
     "data": {
      "text/plain": [
       "1700000.0"
      ]
     },
     "execution_count": 6,
     "metadata": {},
     "output_type": "execute_result"
    }
   ],
   "source": [
    "closing_balance = budget - amount\n",
    "closing_balance "
   ]
  },
  {
   "cell_type": "markdown",
   "id": "d2e47ec2-d84f-47d4-89ac-b16b07468c5a",
   "metadata": {},
   "source": [
    "COMBINED EXPENSES"
   ]
  },
  {
   "cell_type": "code",
   "execution_count": 7,
   "id": "f7c543d8-e448-42b5-a099-b120c0a2c1e8",
   "metadata": {},
   "outputs": [],
   "source": [
    "items = ['Rent', 'Electricity', 'Clothes', 'data bundle', 'KFC', 'Netflix']\n",
    "prices = [300000.00, 20000.00, 50000.00, 20000.00, 30000.00, 15000.00]\n",
    "categories = ['Housing', 'Utility', 'Basic', 'Utility', 'Food', 'Entertainment']\n",
    "necessary = [True, True, True, True, False, False]"
   ]
  },
  {
   "cell_type": "code",
   "execution_count": 8,
   "id": "4cfdef2b-f477-404f-8dbe-33b0710cd6aa",
   "metadata": {},
   "outputs": [
    {
     "data": {
      "text/plain": [
       "[300000.0, 20000.0, 50000.0, 20000.0, 30000.0, 15000.0]"
      ]
     },
     "execution_count": 8,
     "metadata": {},
     "output_type": "execute_result"
    }
   ],
   "source": [
    "prices"
   ]
  },
  {
   "cell_type": "code",
   "execution_count": 9,
   "id": "dcf585b3-515e-42d1-a177-4bbbe886f62f",
   "metadata": {},
   "outputs": [
    {
     "data": {
      "text/plain": [
       "435000.0"
      ]
     },
     "execution_count": 9,
     "metadata": {},
     "output_type": "execute_result"
    }
   ],
   "source": [
    "sum(prices)"
   ]
  },
  {
   "cell_type": "code",
   "execution_count": 13,
   "id": "69f325b4-adc4-44b0-bfab-8ee0ae63354e",
   "metadata": {},
   "outputs": [],
   "source": [
    "total_expenses = sum(prices)"
   ]
  },
  {
   "cell_type": "code",
   "execution_count": 14,
   "id": "8da6d3ab-c039-4d80-860c-81923e17a454",
   "metadata": {},
   "outputs": [
    {
     "data": {
      "text/plain": [
       "1565000.0"
      ]
     },
     "execution_count": 14,
     "metadata": {},
     "output_type": "execute_result"
    }
   ],
   "source": [
    "balance = budget - total_expenses\n",
    "balance"
   ]
  },
  {
   "cell_type": "code",
   "execution_count": 15,
   "id": "06f736b1-4918-4c7b-872b-818599c2c6a1",
   "metadata": {},
   "outputs": [
    {
     "data": {
      "text/plain": [
       "6"
      ]
     },
     "execution_count": 15,
     "metadata": {},
     "output_type": "execute_result"
    }
   ],
   "source": [
    "num_of_items = len(items)\n",
    "num_of_items"
   ]
  },
  {
   "cell_type": "code",
   "execution_count": 20,
   "id": "e1b98c18-141e-4f65-8bc9-2ffc1466caa5",
   "metadata": {},
   "outputs": [
    {
     "name": "stdout",
     "output_type": "stream",
     "text": [
      "===================================\n",
      "        Expenses Tracker\n",
      "===================================\n",
      "Owner                 Andrew\n",
      "Period                August 2025\n",
      "-----------------------------------\n",
      "Currency              Ugx\n",
      "Starting Balance      2000000.0\n",
      "Total Expences        435000.0\n",
      "-----------------------------------\n",
      "Closing Balance       1565000.0\n",
      "Transactions          6\n",
      "===================================\n",
      "Invest 70% of the remaining amount\n",
      "===================================\n"
     ]
    }
   ],
   "source": [
    "print(\"=\" * 35)\n",
    "print(\"        Expenses Tracker\")\n",
    "print(\"=\" * 35)\n",
    "print(\"Owner\",'               ',name)\n",
    "print(\"Period\", '              ',current_month)\n",
    "print('-' * 35)\n",
    "print(\"Currency\", '            ',currency)\n",
    "print(\"Starting Balance\", '    ',budget)\n",
    "print(\"Total Expences\", '      ',total_expenses)\n",
    "print('-' * 35)\n",
    "print(\"Closing Balance\", '     ', balance)\n",
    "print(\"Transactions\", '        ',num_of_items)\n",
    "print(\"=\" * 35)\n",
    "print(\"Invest 70% of the remaining amount\")\n",
    "print(\"=\" * 35)"
   ]
  },
  {
   "cell_type": "code",
   "execution_count": null,
   "id": "166a2646-2e73-484b-bc9c-ae799b26cf65",
   "metadata": {},
   "outputs": [],
   "source": []
  },
  {
   "cell_type": "code",
   "execution_count": null,
   "id": "69e03059-f6c6-4a0b-ac8d-0254105206f8",
   "metadata": {},
   "outputs": [],
   "source": []
  },
  {
   "cell_type": "code",
   "execution_count": null,
   "id": "05c46fd3-6f76-46f6-86c0-bf1d70a1871e",
   "metadata": {},
   "outputs": [],
   "source": []
  },
  {
   "cell_type": "code",
   "execution_count": null,
   "id": "8dbf21f4-6893-4ff3-a8ae-cb1cce92f48a",
   "metadata": {},
   "outputs": [],
   "source": []
  },
  {
   "cell_type": "code",
   "execution_count": null,
   "id": "028ff697-ac0b-4bce-a4a4-b3147849bd0b",
   "metadata": {},
   "outputs": [],
   "source": []
  },
  {
   "cell_type": "code",
   "execution_count": null,
   "id": "c0569492-2516-4d46-820b-a20fc50f2ad0",
   "metadata": {},
   "outputs": [],
   "source": []
  },
  {
   "cell_type": "code",
   "execution_count": null,
   "id": "cf9c1aeb-fd21-45f1-9503-1ec6619d0d3f",
   "metadata": {},
   "outputs": [],
   "source": []
  },
  {
   "cell_type": "code",
   "execution_count": null,
   "id": "999639ec-de23-47df-b38c-7420ffd7d675",
   "metadata": {},
   "outputs": [],
   "source": []
  },
  {
   "cell_type": "code",
   "execution_count": null,
   "id": "74392fd5-9f08-4be1-85e8-fe6760cd43a9",
   "metadata": {},
   "outputs": [],
   "source": []
  },
  {
   "cell_type": "code",
   "execution_count": null,
   "id": "2e98504c-442c-4d06-8a99-b51b772b9b98",
   "metadata": {},
   "outputs": [],
   "source": []
  },
  {
   "cell_type": "code",
   "execution_count": null,
   "id": "208d6bf5-9956-4122-a919-c2d160f5a96d",
   "metadata": {},
   "outputs": [],
   "source": []
  },
  {
   "cell_type": "code",
   "execution_count": null,
   "id": "d6bf50aa-bc2d-4dbb-8fa5-75e3bac10085",
   "metadata": {},
   "outputs": [],
   "source": []
  },
  {
   "cell_type": "code",
   "execution_count": null,
   "id": "2634824d-066c-43db-b008-4d3f5458b80b",
   "metadata": {},
   "outputs": [],
   "source": []
  },
  {
   "cell_type": "code",
   "execution_count": null,
   "id": "c4b1583b-2ecc-4414-b7c0-4d25ade0bb29",
   "metadata": {},
   "outputs": [],
   "source": []
  },
  {
   "cell_type": "code",
   "execution_count": null,
   "id": "a03ea8c1-1e73-422b-9606-b9da4f205ca8",
   "metadata": {},
   "outputs": [],
   "source": []
  },
  {
   "cell_type": "code",
   "execution_count": null,
   "id": "6cbdce21-7656-4331-8bbf-d47d8780833e",
   "metadata": {},
   "outputs": [],
   "source": []
  },
  {
   "cell_type": "code",
   "execution_count": null,
   "id": "5baa26e9-250f-4fd8-91d2-4edf32502a7b",
   "metadata": {},
   "outputs": [],
   "source": []
  },
  {
   "cell_type": "code",
   "execution_count": null,
   "id": "e459793e-d807-4055-bc09-ef35b4aa1504",
   "metadata": {},
   "outputs": [],
   "source": []
  },
  {
   "cell_type": "code",
   "execution_count": null,
   "id": "868bf3d0-0712-437f-a191-97a100a69d42",
   "metadata": {},
   "outputs": [],
   "source": []
  },
  {
   "cell_type": "code",
   "execution_count": null,
   "id": "26f90946-6e5b-482c-9d89-fe397e2a665d",
   "metadata": {},
   "outputs": [],
   "source": []
  },
  {
   "cell_type": "code",
   "execution_count": null,
   "id": "67ab78e0-5858-4e14-bb71-9c36cb6dcd4a",
   "metadata": {},
   "outputs": [],
   "source": []
  },
  {
   "cell_type": "code",
   "execution_count": null,
   "id": "7ff8b2a6-61ef-4b12-85f8-097e2651a688",
   "metadata": {},
   "outputs": [],
   "source": []
  },
  {
   "cell_type": "code",
   "execution_count": null,
   "id": "d17ae962-87fc-423b-8c19-b9fa96eb4c75",
   "metadata": {},
   "outputs": [],
   "source": []
  },
  {
   "cell_type": "code",
   "execution_count": null,
   "id": "4e942591-53a9-4d3d-a599-89da363e99e2",
   "metadata": {},
   "outputs": [],
   "source": []
  },
  {
   "cell_type": "code",
   "execution_count": null,
   "id": "df37968f-f735-41fa-b154-040b74d88961",
   "metadata": {},
   "outputs": [],
   "source": []
  },
  {
   "cell_type": "code",
   "execution_count": null,
   "id": "8f7ac290-344a-482b-81a2-6706547d50aa",
   "metadata": {},
   "outputs": [],
   "source": []
  },
  {
   "cell_type": "code",
   "execution_count": null,
   "id": "f3bd5f36-857c-4140-87d1-ffc9a9312e97",
   "metadata": {},
   "outputs": [],
   "source": []
  },
  {
   "cell_type": "code",
   "execution_count": null,
   "id": "b305b189-75de-42ee-9fe0-d119346c208a",
   "metadata": {},
   "outputs": [],
   "source": []
  }
 ],
 "metadata": {
  "kernelspec": {
   "display_name": "Python 3 (ipykernel)",
   "language": "python",
   "name": "python3"
  },
  "language_info": {
   "codemirror_mode": {
    "name": "ipython",
    "version": 3
   },
   "file_extension": ".py",
   "mimetype": "text/x-python",
   "name": "python",
   "nbconvert_exporter": "python",
   "pygments_lexer": "ipython3",
   "version": "3.12.11"
  }
 },
 "nbformat": 4,
 "nbformat_minor": 5
}
